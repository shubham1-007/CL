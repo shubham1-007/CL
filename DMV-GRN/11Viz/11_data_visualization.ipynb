{
 "cells": [
  {
   "cell_type": "markdown",
   "id": "4975041c",
   "metadata": {},
   "source": [
    "Data Visualization using matplotlib\n",
    "Problem Statement: Analyzing Air Quality Index (AQI) Trends in a City \n",
    "Dataset: \"City_Air_Quality.csv\"\n",
    "Description: The dataset contains information about air quality measurements in a specific \n",
    "city over a period of time. It includes attributes such as date, time, pollutant levels (e.g., PM2.5, \n",
    "PM10, CO), and the Air Quality Index (AQI) values. The goal is to use the matplotlib library \n",
    "to create visualizations that effectively represent the AQI trends and patterns for different \n",
    "pollutants in the city. \n",
    "Tasks to Perform:\n",
    "1. Import the \"City_Air_Quality.csv\" dataset.\n",
    "2. Explore the dataset to understand its structure and content.\n",
    "3. Identify the relevant variables for visualizing AQI trends, such as date, pollutant levels, \n",
    "and AQI values.\n",
    "4. Create line plots or time series plots to visualize the overall AQI trend over time.\n",
    "5. Plot individual pollutant levels (e.g., PM2.5, PM10, CO) on separate line plots to \n",
    "visualize their trends over time.\n",
    "6. Use bar plots or stacked bar plots to compare the AQI values across different dates or \n",
    "time periods.\n",
    "7. Create box plots or violin plots to analyze the distribution of AQI values for different \n",
    "pollutant categories.\n",
    "8. Use scatter plots or bubble charts to explore the relationship between AQI values and \n",
    "pollutant levels.\n",
    "9. Customize the visualizations by adding labels, titles, legends, and appropriate color \n",
    "schemes."
   ]
  },
  {
   "cell_type": "code",
   "execution_count": null,
   "id": "76178c83",
   "metadata": {},
   "outputs": [],
   "source": [
    "import pandas as pd\n",
    "import matplotlib.pyplot as plt\n",
    "import re\n",
    "import numpy as np\n",
    "from collections import Counter\n",
    "# Load the dataset\n",
    "data = pd.read_csv(\"PNQ_AQI.csv\")\n"
   ]
  },
  {
   "cell_type": "code",
   "execution_count": null,
   "id": "c2fa3173",
   "metadata": {},
   "outputs": [],
   "source": [
    "data['Date'] = pd.to_datetime(data['Date'])\n",
    "#data['Date'] = data['Date'].apply(lambda x: int(x.timestamp()))\n",
    "data.sort_values(by=['Date'], inplace=True, ignore_index=True)"
   ]
  },
  {
   "cell_type": "code",
   "execution_count": null,
   "id": "8085935a",
   "metadata": {},
   "outputs": [],
   "source": [
    "for _, col in enumerate(list(data.columns[1:3])):\n",
    "    data[f'{col} BDL'] = data[f'{col}'].map(lambda x: 1 if 'BDL' in x else 0)\n",
    "    data[f'{col}'] = data[f'{col}'].apply(lambda x: x[-3:])\n",
    "    data[f'{col}'] = data[f'{col}'].apply(lambda x: 0 if 'NA' in x else int((re.findall(r'\\d+',x))[0]))"
   ]
  },
  {
   "cell_type": "code",
   "execution_count": null,
   "id": "78c7d918",
   "metadata": {},
   "outputs": [],
   "source": [
    "outlier_features = list(data.columns[1:5])\n",
    "def detect_outliers(df,n,features):\n",
    "    outlier_indices = []\n",
    "    \n",
    "    for col in features:\n",
    "        q1 = np.nanpercentile(df[col], 25)\n",
    "        q3 = np.nanpercentile(df[col], 75)\n",
    "        iqr = q3 - q1\n",
    "        outlier_step = 1.5 * iqr\n",
    "        outlier_list_col = df[(df[col] < q1 - outlier_step) | (df[col] > q3 + outlier_step )].index\n",
    "        outlier_indices.extend(outlier_list_col)\n",
    "    outlier_indices = Counter(outlier_indices)        \n",
    "    multiple_outliers = list( k for k, v in outlier_indices.items() if v > n)\n",
    "    return multiple_outliers\n",
    "\n",
    "Outliers_to_drop = detect_outliers(data,1,outlier_features)\n",
    "data.loc[Outliers_to_drop]"
   ]
  },
  {
   "cell_type": "code",
   "execution_count": null,
   "id": "6f748b11",
   "metadata": {},
   "outputs": [],
   "source": [
    "data.drop(Outliers_to_drop, axis = 0, inplace=True)\n"
   ]
  },
  {
   "cell_type": "code",
   "execution_count": null,
   "id": "99cee9c1",
   "metadata": {},
   "outputs": [],
   "source": [
    "rep={'MPCB-KR':'Karve Road','MPCB-SWGT':'Swargate','MPCB-BSRI':'Bhosari',\\\n",
    "     'MPCB-NS':'Nal Stop','MPCB-PMPR':'Pimpri','Pimpri Chinchwad':'Chinchwad'}\n",
    "data['Location'].replace(rep,inplace=True)"
   ]
  },
  {
   "cell_type": "code",
   "execution_count": null,
   "id": "176c12fb",
   "metadata": {},
   "outputs": [],
   "source": [
    "data.dropna(axis=0, subset=['AQI'], inplace=True)\n",
    "data.drop(['CO2 µg/m3'], axis=1, inplace=True)\n",
    "data.fillna(method='bfill', axis=0, inplace=True)"
   ]
  },
  {
   "cell_type": "code",
   "execution_count": null,
   "id": "4abc3956",
   "metadata": {},
   "outputs": [],
   "source": [
    "data = data[['AQI'] + [c for c in data if c not in ['AQI']]]\n",
    "data.describe()"
   ]
  },
  {
   "cell_type": "code",
   "execution_count": null,
   "id": "c2b8e146",
   "metadata": {},
   "outputs": [],
   "source": [
    "monthly_aqi = data.resample('M', on='Date')['AQI'].mean()\n",
    "\n",
    "# Create a line plot for AQI vs. month\n",
    "plt.figure(figsize=(12, 6))\n",
    "plt.plot(monthly_aqi.index, monthly_aqi.values, color='b', marker='o', linestyle='-', label='AQI (Monthly Average)')\n",
    "plt.title('Monthly AQI Trend Over Time')\n",
    "plt.xlabel('Date')\n",
    "plt.ylabel('Average AQI Value')\n",
    "plt.legend()\n",
    "plt.grid(True)\n",
    "plt.show()"
   ]
  },
  {
   "cell_type": "code",
   "execution_count": null,
   "id": "6f7eeac5",
   "metadata": {},
   "outputs": [],
   "source": [
    "data.columns = data.columns.str.replace(' µg/m3', '')"
   ]
  },
  {
   "cell_type": "code",
   "execution_count": null,
   "id": "62464543",
   "metadata": {},
   "outputs": [],
   "source": [
    "data.head()"
   ]
  },
  {
   "cell_type": "code",
   "execution_count": null,
   "id": "0be513cf",
   "metadata": {},
   "outputs": [],
   "source": [
    "import pandas as pd\n",
    "import matplotlib.pyplot as plt\n",
    "\n",
    "# Assuming you have a DataFrame named 'data' with the specified columns\n",
    "\n",
    "# Create separate line plots for each pollutant\n",
    "plt.figure(figsize=(12, 6))\n",
    "\n",
    "# PM2.5\n",
    "plt.plot(data['Date'], data['SO2'], label='SO2', color='b')\n",
    "plt.title('SO2 Trend Over Time')\n",
    "plt.xlabel('Date')\n",
    "plt.ylabel('SO2 Level')\n",
    "plt.legend()\n",
    "plt.grid(True)\n",
    "plt.show()\n",
    "\n",
    "plt.figure(figsize=(12, 6))\n",
    "\n",
    "# PM10\n",
    "plt.plot(data['Date'], data['Nox'], label='NOx', color='g')\n",
    "plt.title('NOx Trend Over Time')\n",
    "plt.xlabel('Date')\n",
    "plt.ylabel('NOx Level')\n",
    "plt.legend()\n",
    "plt.grid(True)\n",
    "plt.show()\n",
    "\n",
    "plt.figure(figsize=(12, 6))\n",
    "\n",
    "# CO\n",
    "plt.plot(data['Date'], data['RSPM'], label='RSPM', color='r')\n",
    "plt.title('RSPM Trend Over Time')\n",
    "plt.xlabel('Date')\n",
    "plt.ylabel('RSPM Level')\n",
    "plt.legend()\n",
    "plt.grid(True)\n",
    "plt.show()\n",
    "\n",
    "plt.figure(figsize=(12, 6))\n",
    "# SPM\n",
    "plt.plot(data['Date'], data['SPM'], label='SPM', color='y')\n",
    "plt.title('SPM Trend Over Time')\n",
    "plt.xlabel('Date')\n",
    "plt.ylabel('SPM Level')\n",
    "plt.legend()\n",
    "plt.grid(True)\n",
    "plt.show()"
   ]
  },
  {
   "cell_type": "code",
   "execution_count": null,
   "id": "72a72629",
   "metadata": {},
   "outputs": [],
   "source": [
    "import pandas as pd\n",
    "import matplotlib.pyplot as plt\n",
    "\n",
    "# Assuming you have a DataFrame named 'data' with 'Date' and 'AQI' columns\n",
    "\n",
    "# Create a bar plot to compare AQI values across different dates\n",
    "plt.figure(figsize=(12, 6))\n",
    "plt.bar(data['Date'], data['AQI'], color='skyblue')\n",
    "plt.title('AQI Comparison Across Dates')\n",
    "plt.xlabel('Date')\n",
    "plt.ylabel('AQI Value')\n",
    "plt.xticks(rotation=45)\n",
    "plt.grid(True)\n",
    "plt.show()\n"
   ]
  },
  {
   "cell_type": "code",
   "execution_count": null,
   "id": "95bc4c5d",
   "metadata": {},
   "outputs": [],
   "source": [
    "data.head()"
   ]
  },
  {
   "cell_type": "code",
   "execution_count": null,
   "id": "44c246c6",
   "metadata": {},
   "outputs": [],
   "source": [
    "import matplotlib.pyplot as plt\n",
    "import seaborn as sns\n",
    "\n",
    "# Assuming you have a DataFrame 'data' with columns 'AQI', 'SO2', 'NOx', 'RSPM', 'SPM'\n",
    "\n",
    "# Create a violin plot for AQI values for different pollutant categories\n",
    "plt.figure(figsize=(10, 6))\n",
    "sns.violinplot(x='variable', y='value', data=data[['AQI', 'SO2', 'Nox', 'RSPM', 'SPM']].melt(), inner='quart')\n",
    "plt.title('Distribution of AQI Values for Different Pollutant Categories')\n",
    "plt.xlabel('Pollutant Categories')\n",
    "plt.ylabel('Value')\n",
    "plt.xticks(rotation=45)\n",
    "plt.show()\n"
   ]
  },
  {
   "cell_type": "code",
   "execution_count": null,
   "id": "9a42b279",
   "metadata": {},
   "outputs": [],
   "source": [
    "import matplotlib.pyplot as plt\n",
    "import pandas as pd\n",
    "\n",
    "# Assuming you have a DataFrame 'data' with columns 'AQI', 'SO2', 'NOx', 'RSPM', 'SPM'\n",
    "\n",
    "# Scatter plot of AQI vs. SO2\n",
    "plt.figure(figsize=(10, 6))\n",
    "plt.scatter(data['SO2'], data['AQI'], alpha=0.5, color='blue')\n",
    "plt.title('AQI vs. SO2 Scatter Plot')\n",
    "plt.xlabel('SO2 Level')\n",
    "plt.ylabel('AQI')\n",
    "plt.grid(True)\n",
    "plt.show()\n",
    "\n",
    "# Scatter plot of AQI vs. NOx\n",
    "plt.figure(figsize=(10, 6))\n",
    "plt.scatter(data['Nox'], data['AQI'], alpha=0.5, color='green')\n",
    "plt.title('AQI vs. NOx Scatter Plot')\n",
    "plt.xlabel('NOx Level')\n",
    "plt.ylabel('AQI')\n",
    "plt.grid(True)\n",
    "plt.show()\n",
    "\n",
    "# Bubble chart of AQI vs. RSPM\n",
    "plt.figure(figsize=(10, 6))\n",
    "plt.scatter(data['RSPM'], data['AQI'], s=data['AQI'], alpha=0.5, color='red')\n",
    "plt.title('AQI vs. RSPM Bubble Chart')\n",
    "plt.xlabel('RSPM Level')\n",
    "plt.ylabel('AQI')\n",
    "plt.grid(True)\n",
    "plt.show()\n",
    "\n",
    "# Bubble chart of AQI vs. SPM\n",
    "plt.figure(figsize=(10, 6))\n",
    "plt.scatter(data['SPM'], data['AQI'], s=data['AQI'], alpha=0.5, color='purple')\n",
    "plt.title('AQI vs. SPM Bubble Chart')\n",
    "plt.xlabel('SPM Level')\n",
    "plt.ylabel('AQI')\n",
    "plt.grid(True)\n",
    "plt.show()\n"
   ]
  },
  {
   "cell_type": "code",
   "execution_count": null,
   "id": "ffae3afa",
   "metadata": {},
   "outputs": [],
   "source": []
  }
 ],
 "metadata": {
  "kernelspec": {
   "display_name": "Python 3 (ipykernel)",
   "language": "python",
   "name": "python3"
  },
  "language_info": {
   "codemirror_mode": {
    "name": "ipython",
    "version": 3
   },
   "file_extension": ".py",
   "mimetype": "text/x-python",
   "name": "python",
   "nbconvert_exporter": "python",
   "pygments_lexer": "ipython3",
   "version": "3.11.4"
  }
 },
 "nbformat": 4,
 "nbformat_minor": 5
}
