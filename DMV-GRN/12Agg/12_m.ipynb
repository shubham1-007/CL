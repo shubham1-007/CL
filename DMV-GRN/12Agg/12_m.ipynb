{
 "cells": [
  {
   "cell_type": "code",
   "execution_count": 3,
   "metadata": {},
   "outputs": [
    {
     "data": {
      "text/html": [
       "<div>\n",
       "<style scoped>\n",
       "    .dataframe tbody tr th:only-of-type {\n",
       "        vertical-align: middle;\n",
       "    }\n",
       "\n",
       "    .dataframe tbody tr th {\n",
       "        vertical-align: top;\n",
       "    }\n",
       "\n",
       "    .dataframe thead th {\n",
       "        text-align: right;\n",
       "    }\n",
       "</style>\n",
       "<table border=\"1\" class=\"dataframe\">\n",
       "  <thead>\n",
       "    <tr style=\"text-align: right;\">\n",
       "      <th></th>\n",
       "      <th>Transaction_ID</th>\n",
       "      <th>Customer_ID</th>\n",
       "      <th>State</th>\n",
       "      <th>Age</th>\n",
       "      <th>Shop_Category</th>\n",
       "      <th>Sales</th>\n",
       "      <th>Gender</th>\n",
       "      <th>Items_in_basket</th>\n",
       "    </tr>\n",
       "  </thead>\n",
       "  <tbody>\n",
       "    <tr>\n",
       "      <th>0</th>\n",
       "      <td>1</td>\n",
       "      <td>1234</td>\n",
       "      <td>MP</td>\n",
       "      <td>10</td>\n",
       "      <td>Grocery</td>\n",
       "      <td>10</td>\n",
       "      <td>M</td>\n",
       "      <td>2</td>\n",
       "    </tr>\n",
       "    <tr>\n",
       "      <th>1</th>\n",
       "      <td>2</td>\n",
       "      <td>1235</td>\n",
       "      <td>UP</td>\n",
       "      <td>21</td>\n",
       "      <td>Dairy</td>\n",
       "      <td>30</td>\n",
       "      <td>F</td>\n",
       "      <td>3</td>\n",
       "    </tr>\n",
       "    <tr>\n",
       "      <th>2</th>\n",
       "      <td>3</td>\n",
       "      <td>1236</td>\n",
       "      <td>AP</td>\n",
       "      <td>23</td>\n",
       "      <td>Deli</td>\n",
       "      <td>23</td>\n",
       "      <td>F</td>\n",
       "      <td>4</td>\n",
       "    </tr>\n",
       "    <tr>\n",
       "      <th>3</th>\n",
       "      <td>4</td>\n",
       "      <td>1237</td>\n",
       "      <td>RP</td>\n",
       "      <td>25</td>\n",
       "      <td>Meat</td>\n",
       "      <td>21</td>\n",
       "      <td>F</td>\n",
       "      <td>4</td>\n",
       "    </tr>\n",
       "    <tr>\n",
       "      <th>4</th>\n",
       "      <td>5</td>\n",
       "      <td>1238</td>\n",
       "      <td>DP</td>\n",
       "      <td>27</td>\n",
       "      <td>Clothes</td>\n",
       "      <td>90</td>\n",
       "      <td>F</td>\n",
       "      <td>3</td>\n",
       "    </tr>\n",
       "  </tbody>\n",
       "</table>\n",
       "</div>"
      ],
      "text/plain": [
       "   Transaction_ID  Customer_ID State  Age Shop_Category  Sales Gender   \n",
       "0               1         1234    MP   10       Grocery     10      M  \\\n",
       "1               2         1235    UP   21         Dairy     30      F   \n",
       "2               3         1236    AP   23          Deli     23      F   \n",
       "3               4         1237    RP   25          Meat     21      F   \n",
       "4               5         1238    DP   27       Clothes     90      F   \n",
       "\n",
       "   Items_in_basket  \n",
       "0                2  \n",
       "1                3  \n",
       "2                4  \n",
       "3                4  \n",
       "4                3  "
      ]
     },
     "execution_count": 3,
     "metadata": {},
     "output_type": "execute_result"
    }
   ],
   "source": [
    "import pandas as pd\n",
    "df=pd.read_csv('Retail_Sales_Data.csv')\n",
    "df.head()"
   ]
  },
  {
   "cell_type": "code",
   "execution_count": 5,
   "metadata": {},
   "outputs": [
    {
     "data": {
      "text/html": [
       "<div>\n",
       "<style scoped>\n",
       "    .dataframe tbody tr th:only-of-type {\n",
       "        vertical-align: middle;\n",
       "    }\n",
       "\n",
       "    .dataframe tbody tr th {\n",
       "        vertical-align: top;\n",
       "    }\n",
       "\n",
       "    .dataframe thead th {\n",
       "        text-align: right;\n",
       "    }\n",
       "</style>\n",
       "<table border=\"1\" class=\"dataframe\">\n",
       "  <thead>\n",
       "    <tr style=\"text-align: right;\">\n",
       "      <th></th>\n",
       "      <th>State</th>\n",
       "      <th>Shop_Category</th>\n",
       "      <th>Sales</th>\n",
       "    </tr>\n",
       "  </thead>\n",
       "  <tbody>\n",
       "    <tr>\n",
       "      <th>0</th>\n",
       "      <td>MP</td>\n",
       "      <td>Grocery</td>\n",
       "      <td>10</td>\n",
       "    </tr>\n",
       "    <tr>\n",
       "      <th>1</th>\n",
       "      <td>UP</td>\n",
       "      <td>Dairy</td>\n",
       "      <td>30</td>\n",
       "    </tr>\n",
       "    <tr>\n",
       "      <th>2</th>\n",
       "      <td>AP</td>\n",
       "      <td>Deli</td>\n",
       "      <td>23</td>\n",
       "    </tr>\n",
       "    <tr>\n",
       "      <th>3</th>\n",
       "      <td>RP</td>\n",
       "      <td>Meat</td>\n",
       "      <td>21</td>\n",
       "    </tr>\n",
       "    <tr>\n",
       "      <th>4</th>\n",
       "      <td>DP</td>\n",
       "      <td>Clothes</td>\n",
       "      <td>90</td>\n",
       "    </tr>\n",
       "  </tbody>\n",
       "</table>\n",
       "</div>"
      ],
      "text/plain": [
       "  State Shop_Category  Sales\n",
       "0    MP       Grocery     10\n",
       "1    UP         Dairy     30\n",
       "2    AP          Deli     23\n",
       "3    RP          Meat     21\n",
       "4    DP       Clothes     90"
      ]
     },
     "execution_count": 5,
     "metadata": {},
     "output_type": "execute_result"
    }
   ],
   "source": [
    "relevant_features=df[['State','Shop_Category','Sales']]\n",
    "relevant_features.head()"
   ]
  },
  {
   "cell_type": "code",
   "execution_count": 17,
   "metadata": {},
   "outputs": [
    {
     "data": {
      "text/html": [
       "<div>\n",
       "<style scoped>\n",
       "    .dataframe tbody tr th:only-of-type {\n",
       "        vertical-align: middle;\n",
       "    }\n",
       "\n",
       "    .dataframe tbody tr th {\n",
       "        vertical-align: top;\n",
       "    }\n",
       "\n",
       "    .dataframe thead th {\n",
       "        text-align: right;\n",
       "    }\n",
       "</style>\n",
       "<table border=\"1\" class=\"dataframe\">\n",
       "  <thead>\n",
       "    <tr style=\"text-align: right;\">\n",
       "      <th></th>\n",
       "      <th>State</th>\n",
       "      <th>Sales</th>\n",
       "    </tr>\n",
       "  </thead>\n",
       "  <tbody>\n",
       "    <tr>\n",
       "      <th>0</th>\n",
       "      <td>AP</td>\n",
       "      <td>12176</td>\n",
       "    </tr>\n",
       "    <tr>\n",
       "      <th>1</th>\n",
       "      <td>DP</td>\n",
       "      <td>23346</td>\n",
       "    </tr>\n",
       "    <tr>\n",
       "      <th>2</th>\n",
       "      <td>KP</td>\n",
       "      <td>10887</td>\n",
       "    </tr>\n",
       "    <tr>\n",
       "      <th>3</th>\n",
       "      <td>MP</td>\n",
       "      <td>4916</td>\n",
       "    </tr>\n",
       "    <tr>\n",
       "      <th>4</th>\n",
       "      <td>RP</td>\n",
       "      <td>11049</td>\n",
       "    </tr>\n",
       "    <tr>\n",
       "      <th>5</th>\n",
       "      <td>UP</td>\n",
       "      <td>4072</td>\n",
       "    </tr>\n",
       "  </tbody>\n",
       "</table>\n",
       "</div>"
      ],
      "text/plain": [
       "  State  Sales\n",
       "0    AP  12176\n",
       "1    DP  23346\n",
       "2    KP  10887\n",
       "3    MP   4916\n",
       "4    RP  11049\n",
       "5    UP   4072"
      ]
     },
     "execution_count": 17,
     "metadata": {},
     "output_type": "execute_result"
    }
   ],
   "source": [
    "gbr=df.groupby('State')['Sales'].sum().reset_index()\n",
    "gbr"
   ]
  },
  {
   "cell_type": "code",
   "execution_count": 18,
   "metadata": {},
   "outputs": [
    {
     "data": {
      "text/plain": [
       "<BarContainer object of 312 artists>"
      ]
     },
     "execution_count": 18,
     "metadata": {},
     "output_type": "execute_result"
    },
    {
     "data": {
      "image/png": "[encoded data removed]",
      "text/plain": [
       "<Figure size 640x480 with 1 Axes>"
      ]
     },
     "metadata": {},
     "output_type": "display_data"
    }
   ],
   "source": [
    "import matplotlib.pyplot as plt\n",
    "plt.bar(gbr['State'],gbr['Sales'])"
   ]
  },
  {
   "cell_type": "code",
   "execution_count": 23,
   "metadata": {},
   "outputs": [
    {
     "data": {
      "image/png": "[encoded data removed]",
      "text/plain": [
       "<Figure size 800x800 with 1 Axes>"
      ]
     },
     "metadata": {},
     "output_type": "display_data"
    }
   ],
   "source": [
    "# Create a pie chart\n",
    "plt.figure(figsize=(8, 8))\n",
    "plt.pie(gbr['Sales'], labels=gbr['State'], autopct='%1.1f%%', startangle=140)\n",
    "# plt.axis('equal')  # Equal aspect ratio ensures that the pie is drawn as a circle.\n",
    "plt.title('Sales Distribution by Region')\n",
    "plt.show()\n"
   ]
  },
  {
   "cell_type": "code",
   "execution_count": 42,
   "metadata": {},
   "outputs": [
    {
     "name": "stdout",
     "output_type": "stream",
     "text": [
      "State       DP\n",
      "Sales    23346\n",
      "Name: 1, dtype: object\n"
     ]
    }
   ],
   "source": [
    "topp=gbr.sort_values(by='Sales',ascending=False)\n",
    "top=topp.iloc[0]\n",
    "print(top)\n"
   ]
  },
  {
   "cell_type": "code",
   "execution_count": 40,
   "metadata": {},
   "outputs": [
    {
     "name": "stdout",
     "output_type": "stream",
     "text": [
      "Top-Performing Region:  DP\n"
     ]
    }
   ],
   "source": [
    "# Sort the region_sales DataFrame in descending order by 'Sales' column\n",
    "top_regions = gbr.sort_values(by='Sales', ascending=False)\n",
    "\n",
    "# Get the top-performing region\n",
    "top_region = top_regions.iloc[0]\n",
    "\n",
    "print(\"Top-Performing Region: \", top_region['State'])\n"
   ]
  },
  {
   "cell_type": "code",
   "execution_count": 45,
   "metadata": {},
   "outputs": [
    {
     "name": "stdout",
     "output_type": "stream",
     "text": [
      "                     Transaction_ID  Customer_ID   Age  Sales   \n",
      "State Shop_Category                                             \n",
      "AP    Clothes                  1417        75878   565   2127  \\\n",
      "      Dairy                    1286        60684   533   1197   \n",
      "      Deli                     1454        44774   420   1303   \n",
      "      Electronics              2339       118990   973   3818   \n",
      "      Grocery                   286        18812   112    823   \n",
      "      Meat                     1548        81858   553   2908   \n",
      "DP    Clothes                  5492       258611  1410   7133   \n",
      "      Dairy                    3539       202182  1005   6027   \n",
      "      Deli                     2085        80796   522   1723   \n",
      "      Electronics              2067       119608   614   4645   \n",
      "      Grocery                  1202        69618   290   1736   \n",
      "      Meat                     1469        97227   591   2082   \n",
      "KP    Clothes                  1963       126275   679   3581   \n",
      "      Dairy                     841        49640   214    630   \n",
      "      Deli                     1289        81645   506   2595   \n",
      "      Electronics              2470        98182   735   2742   \n",
      "      Grocery                   191         8714    32     54   \n",
      "      Meat                     1434        50945   403   1285   \n",
      "MP    Clothes                   783        21048   219    711   \n",
      "      Deli                      837        40874   132   1144   \n",
      "      Electronics               896        28210   281    696   \n",
      "      Grocery                  1083        18578   261    950   \n",
      "      Meat                      629        41912   239   1415   \n",
      "RP    Clothes                  1862        87569   490   2167   \n",
      "      Dairy                     192         8726    34     74   \n",
      "      Deli                      730        33173   330   1006   \n",
      "      Electronics              1657        94043   508   3087   \n",
      "      Grocery                  1161        61938   435   2452   \n",
      "      Meat                     2370        78312   582   2263   \n",
      "UP    Clothes                   726        41909   237   1077   \n",
      "      Dairy                     910        27240   326    816   \n",
      "      Deli                      219         1241    33     87   \n",
      "      Electronics              1143        25886   314    500   \n",
      "      Grocery                   416        13504   163    729   \n",
      "      Meat                      842        40883   151    863   \n",
      "\n",
      "                                                 Gender  Items_in_basket  \n",
      "State Shop_Category                                                       \n",
      "AP    Clothes                                 FMFMFFFFM               34  \n",
      "      Dairy                                    FMFMFFMF               29  \n",
      "      Deli                                   FFFFFFMMMM               64  \n",
      "      Electronics                      FFFFMFFFFFFFFFMF               71  \n",
      "      Grocery                                        FF                9  \n",
      "      Meat                                  MFFFMMFFFFM               51  \n",
      "DP    Clothes        FMFMMFFMMFMFFFFMFFFFFFFFFMMFMFFFFM              141  \n",
      "      Dairy                      MFMMFFMFFFMFMFFMFFMFFM               82  \n",
      "      Deli                                   FMMFFMMMFM               38  \n",
      "      Electronics                         FFFFMFFFFFFMM               63  \n",
      "      Grocery                                   FMMFFFM               47  \n",
      "      Meat                                  FMFMMMMFFFF               43  \n",
      "KP    Clothes                            FMFFMFFFFFFFFF               57  \n",
      "      Dairy                                       FFFFF               18  \n",
      "      Deli                                    MFMFFFFFF               39  \n",
      "      Electronics                     FMFFMFMFMFFFFFMMM               66  \n",
      "      Grocery                                         F                2  \n",
      "      Meat                                       MFMMFM               27  \n",
      "MP    Clothes                                       MMF               13  \n",
      "      Deli                                        FFFMM               19  \n",
      "      Electronics                               FFMFFFF               38  \n",
      "      Grocery                                  MFFMMFMM               36  \n",
      "      Meat                                        MFFMF               21  \n",
      "RP    Clothes                                MFFFFFFMFM               35  \n",
      "      Dairy                                           F               12  \n",
      "      Deli                                        FMMFF               17  \n",
      "      Electronics                          FFFFMFMFFMFF               54  \n",
      "      Grocery                                  FMFFFMMF               34  \n",
      "      Meat                              FMFFFFFFFFMMMFF               72  \n",
      "UP    Clothes                                     FFFMF               27  \n",
      "      Dairy                                    FFFFFFMM               30  \n",
      "      Deli                                            M                5  \n",
      "      Electronics                                FMFFMF               24  \n",
      "      Grocery                                       FFF               12  \n",
      "      Meat                                        FFFMM               23  \n"
     ]
    }
   ],
   "source": [
    "reg_pro=df.groupby(['State','Shop_Category']).sum()\n",
    "print(reg_pro)"
   ]
  },
  {
   "cell_type": "code",
   "execution_count": 49,
   "metadata": {},
   "outputs": [
    {
     "ename": "KeyError",
     "evalue": "'State'",
     "output_type": "error",
     "traceback": [
      "\u001b[1;31m---------------------------------------------------------------------------\u001b[0m",
      "\u001b[1;31mKeyError\u001b[0m                                  Traceback (most recent call last)",
      "File \u001b[1;32mD:\\Lib\\site-packages\\pandas\\core\\indexes\\base.py:3652\u001b[0m, in \u001b[0;36mIndex.get_loc\u001b[1;34m(self, key)\u001b[0m\n\u001b[0;32m   3651\u001b[0m \u001b[39mtry\u001b[39;00m:\n\u001b[1;32m-> 3652\u001b[0m     \u001b[39mreturn\u001b[39;00m \u001b[39mself\u001b[39;49m\u001b[39m.\u001b[39;49m_engine\u001b[39m.\u001b[39;49mget_loc(casted_key)\n\u001b[0;32m   3653\u001b[0m \u001b[39mexcept\u001b[39;00m \u001b[39mKeyError\u001b[39;00m \u001b[39mas\u001b[39;00m err:\n",
      "File \u001b[1;32mD:\\Lib\\site-packages\\pandas\\_libs\\index.pyx:147\u001b[0m, in \u001b[0;36mpandas._libs.index.IndexEngine.get_loc\u001b[1;34m()\u001b[0m\n",
      "File \u001b[1;32mD:\\Lib\\site-packages\\pandas\\_libs\\index.pyx:176\u001b[0m, in \u001b[0;36mpandas._libs.index.IndexEngine.get_loc\u001b[1;34m()\u001b[0m\n",
      "File \u001b[1;32mpandas\\_libs\\hashtable_class_helper.pxi:7080\u001b[0m, in \u001b[0;36mpandas._libs.hashtable.PyObjectHashTable.get_item\u001b[1;34m()\u001b[0m\n",
      "File \u001b[1;32mpandas\\_libs\\hashtable_class_helper.pxi:7088\u001b[0m, in \u001b[0;36mpandas._libs.hashtable.PyObjectHashTable.get_item\u001b[1;34m()\u001b[0m\n",
      "\u001b[1;31mKeyError\u001b[0m: 'State'",
      "\nThe above exception was the direct cause of the following exception:\n",
      "\u001b[1;31mKeyError\u001b[0m                                  Traceback (most recent call last)",
      "\u001b[1;32me:\\B.E Labs\\Cl-I\\DMV-GRN\\DMV\\DataAgg\\12_m.ipynb Cell 9\u001b[0m line \u001b[0;36m1\n\u001b[1;32m----> <a href='vscode-notebook-cell:/e%3A/B.E%20Labs/Cl-I/DMV-GRN/DMV/DataAgg/12_m.ipynb#X12sZmlsZQ%3D%3D?line=0'>1</a>\u001b[0m pivot_df\u001b[39m=\u001b[39mreg_pro\u001b[39m.\u001b[39;49mpivot(index\u001b[39m=\u001b[39;49m\u001b[39m'\u001b[39;49m\u001b[39mState\u001b[39;49m\u001b[39m'\u001b[39;49m,columns\u001b[39m=\u001b[39;49m\u001b[39m'\u001b[39;49m\u001b[39mShop_Category\u001b[39;49m\u001b[39m'\u001b[39;49m,values\u001b[39m=\u001b[39;49m\u001b[39m'\u001b[39;49m\u001b[39mSales\u001b[39;49m\u001b[39m'\u001b[39;49m)\n",
      "File \u001b[1;32mD:\\Lib\\site-packages\\pandas\\core\\frame.py:8419\u001b[0m, in \u001b[0;36mDataFrame.pivot\u001b[1;34m(self, columns, index, values)\u001b[0m\n\u001b[0;32m   8414\u001b[0m \u001b[39m@Substitution\u001b[39m(\u001b[39m\"\u001b[39m\u001b[39m\"\u001b[39m)\n\u001b[0;32m   8415\u001b[0m \u001b[39m@Appender\u001b[39m(_shared_docs[\u001b[39m\"\u001b[39m\u001b[39mpivot\u001b[39m\u001b[39m\"\u001b[39m])\n\u001b[0;32m   8416\u001b[0m \u001b[39mdef\u001b[39;00m \u001b[39mpivot\u001b[39m(\u001b[39mself\u001b[39m, \u001b[39m*\u001b[39m, columns, index\u001b[39m=\u001b[39mlib\u001b[39m.\u001b[39mNoDefault, values\u001b[39m=\u001b[39mlib\u001b[39m.\u001b[39mNoDefault) \u001b[39m-\u001b[39m\u001b[39m>\u001b[39m DataFrame:\n\u001b[0;32m   8417\u001b[0m     \u001b[39mfrom\u001b[39;00m \u001b[39mpandas\u001b[39;00m\u001b[39m.\u001b[39;00m\u001b[39mcore\u001b[39;00m\u001b[39m.\u001b[39;00m\u001b[39mreshape\u001b[39;00m\u001b[39m.\u001b[39;00m\u001b[39mpivot\u001b[39;00m \u001b[39mimport\u001b[39;00m pivot\n\u001b[1;32m-> 8419\u001b[0m     \u001b[39mreturn\u001b[39;00m pivot(\u001b[39mself\u001b[39;49m, index\u001b[39m=\u001b[39;49mindex, columns\u001b[39m=\u001b[39;49mcolumns, values\u001b[39m=\u001b[39;49mvalues)\n",
      "File \u001b[1;32mD:\\Lib\\site-packages\\pandas\\core\\reshape\\pivot.py:538\u001b[0m, in \u001b[0;36mpivot\u001b[1;34m(data, columns, index, values)\u001b[0m\n\u001b[0;32m    536\u001b[0m         index_list \u001b[39m=\u001b[39m [Series(data\u001b[39m.\u001b[39mindex, name\u001b[39m=\u001b[39mdata\u001b[39m.\u001b[39mindex\u001b[39m.\u001b[39mname)]\n\u001b[0;32m    537\u001b[0m \u001b[39melse\u001b[39;00m:\n\u001b[1;32m--> 538\u001b[0m     index_list \u001b[39m=\u001b[39m [data[idx] \u001b[39mfor\u001b[39;49;00m idx \u001b[39min\u001b[39;49;00m com\u001b[39m.\u001b[39;49mconvert_to_list_like(index)]\n\u001b[0;32m    540\u001b[0m data_columns \u001b[39m=\u001b[39m [data[col] \u001b[39mfor\u001b[39;00m col \u001b[39min\u001b[39;00m columns_listlike]\n\u001b[0;32m    541\u001b[0m index_list\u001b[39m.\u001b[39mextend(data_columns)\n",
      "File \u001b[1;32mD:\\Lib\\site-packages\\pandas\\core\\reshape\\pivot.py:538\u001b[0m, in \u001b[0;36m<listcomp>\u001b[1;34m(.0)\u001b[0m\n\u001b[0;32m    536\u001b[0m         index_list \u001b[39m=\u001b[39m [Series(data\u001b[39m.\u001b[39mindex, name\u001b[39m=\u001b[39mdata\u001b[39m.\u001b[39mindex\u001b[39m.\u001b[39mname)]\n\u001b[0;32m    537\u001b[0m \u001b[39melse\u001b[39;00m:\n\u001b[1;32m--> 538\u001b[0m     index_list \u001b[39m=\u001b[39m [data[idx] \u001b[39mfor\u001b[39;00m idx \u001b[39min\u001b[39;00m com\u001b[39m.\u001b[39mconvert_to_list_like(index)]\n\u001b[0;32m    540\u001b[0m data_columns \u001b[39m=\u001b[39m [data[col] \u001b[39mfor\u001b[39;00m col \u001b[39min\u001b[39;00m columns_listlike]\n\u001b[0;32m    541\u001b[0m index_list\u001b[39m.\u001b[39mextend(data_columns)\n",
      "File \u001b[1;32mD:\\Lib\\site-packages\\pandas\\core\\frame.py:3760\u001b[0m, in \u001b[0;36mDataFrame.__getitem__\u001b[1;34m(self, key)\u001b[0m\n\u001b[0;32m   3758\u001b[0m \u001b[39mif\u001b[39;00m \u001b[39mself\u001b[39m\u001b[39m.\u001b[39mcolumns\u001b[39m.\u001b[39mnlevels \u001b[39m>\u001b[39m \u001b[39m1\u001b[39m:\n\u001b[0;32m   3759\u001b[0m     \u001b[39mreturn\u001b[39;00m \u001b[39mself\u001b[39m\u001b[39m.\u001b[39m_getitem_multilevel(key)\n\u001b[1;32m-> 3760\u001b[0m indexer \u001b[39m=\u001b[39m \u001b[39mself\u001b[39;49m\u001b[39m.\u001b[39;49mcolumns\u001b[39m.\u001b[39;49mget_loc(key)\n\u001b[0;32m   3761\u001b[0m \u001b[39mif\u001b[39;00m is_integer(indexer):\n\u001b[0;32m   3762\u001b[0m     indexer \u001b[39m=\u001b[39m [indexer]\n",
      "File \u001b[1;32mD:\\Lib\\site-packages\\pandas\\core\\indexes\\base.py:3654\u001b[0m, in \u001b[0;36mIndex.get_loc\u001b[1;34m(self, key)\u001b[0m\n\u001b[0;32m   3652\u001b[0m     \u001b[39mreturn\u001b[39;00m \u001b[39mself\u001b[39m\u001b[39m.\u001b[39m_engine\u001b[39m.\u001b[39mget_loc(casted_key)\n\u001b[0;32m   3653\u001b[0m \u001b[39mexcept\u001b[39;00m \u001b[39mKeyError\u001b[39;00m \u001b[39mas\u001b[39;00m err:\n\u001b[1;32m-> 3654\u001b[0m     \u001b[39mraise\u001b[39;00m \u001b[39mKeyError\u001b[39;00m(key) \u001b[39mfrom\u001b[39;00m \u001b[39merr\u001b[39;00m\n\u001b[0;32m   3655\u001b[0m \u001b[39mexcept\u001b[39;00m \u001b[39mTypeError\u001b[39;00m:\n\u001b[0;32m   3656\u001b[0m     \u001b[39m# If we have a listlike key, _check_indexing_error will raise\u001b[39;00m\n\u001b[0;32m   3657\u001b[0m     \u001b[39m#  InvalidIndexError. Otherwise we fall through and re-raise\u001b[39;00m\n\u001b[0;32m   3658\u001b[0m     \u001b[39m#  the TypeError.\u001b[39;00m\n\u001b[0;32m   3659\u001b[0m     \u001b[39mself\u001b[39m\u001b[39m.\u001b[39m_check_indexing_error(key)\n",
      "\u001b[1;31mKeyError\u001b[0m: 'State'"
     ]
    }
   ],
   "source": [
    "pivot_df=reg_pro.pivot(index='State',columns='Shop_Category',values='Sales')"
   ]
  },
  {
   "cell_type": "code",
   "execution_count": null,
   "metadata": {},
   "outputs": [],
   "source": []
  }
 ],
 "metadata": {
  "kernelspec": {
   "display_name": "Python 3",
   "language": "python",
   "name": "python3"
  },
  "language_info": {
   "codemirror_mode": {
    "name": "ipython",
    "version": 3
   },
   "file_extension": ".py",
   "mimetype": "text/x-python",
   "name": "python",
   "nbconvert_exporter": "python",
   "pygments_lexer": "ipython3",
   "version": "3.11.2"
  }
 },
 "nbformat": 4,
 "nbformat_minor": 2
}
