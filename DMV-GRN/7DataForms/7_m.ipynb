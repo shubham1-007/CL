{
 "cells": [
  {
   "cell_type": "code",
   "execution_count": 5,
   "metadata": {},
   "outputs": [
    {
     "name": "stdout",
     "output_type": "stream",
     "text": [
      "csv data\n",
      "  first_name last_name                               email   \n",
      "0     Joseph      Rice      josephrice131@slingacademy.com  \\\n",
      "1       Gary     Moore       garymoore386@slingacademy.com   \n",
      "2       John    Walker      johnwalker944@slingacademy.com   \n",
      "3       Eric    Carter      ericcarter176@slingacademy.com   \n",
      "4    William   Jackson  williamjackson427@slingacademy.com   \n",
      "\n",
      "                  phone                                   address gender  age   \n",
      "0  +1-800-040-3135x6208    91773 Miller Shoal\\nDiaztown, FL 38841   male   43  \\\n",
      "1     221.945.4191x8872       6450 John Lodge\\nTerriton, KY 95945   male   71   \n",
      "2     388-142-4883x5370  27265 Murray Island\\nKevinfort, PA 63231   male   44   \n",
      "3         (451)259-5402                 USNS Knight\\nFPO AA 76532   male   38   \n",
      "4      625.626.9133x374   170 Jackson Loaf\\nKristenland, AS 48876   male   58   \n",
      "\n",
      "   registered  orders   spent       job                      hobbies   \n",
      "0  2019-05-05       7  568.29    Artist               Playing sports  \\\n",
      "1  2020-05-20      11  568.92    Artist                     Swimming   \n",
      "2  2020-04-04      11  497.12     Clerk                     Painting   \n",
      "3  2019-01-30      17  834.60   Butcher  Playing musical instruments   \n",
      "4  2022-07-01      14  151.59  Engineer                      Reading   \n",
      "\n",
      "   is_married  \n",
      "0       False  \n",
      "1        True  \n",
      "2       False  \n",
      "3       False  \n",
      "4       False  \n",
      "excel data\n",
      "  first_name last_name                               email   \n",
      "0     Joseph      Rice      josephrice131@slingacademy.com  \\\n",
      "1       Gary     Moore       garymoore386@slingacademy.com   \n",
      "2       John    Walker      johnwalker944@slingacademy.com   \n",
      "3       Eric    Carter      ericcarter176@slingacademy.com   \n",
      "4    William   Jackson  williamjackson427@slingacademy.com   \n",
      "\n",
      "                  phone                                   address gender  age   \n",
      "0  +1-800-040-3135x6208    91773 Miller Shoal\\nDiaztown, FL 38841   male   43  \\\n",
      "1     221.945.4191x8872       6450 John Lodge\\nTerriton, KY 95945   male   71   \n",
      "2     388-142-4883x5370  27265 Murray Island\\nKevinfort, PA 63231   male   44   \n",
      "3         (451)259-5402                 USNS Knight\\nFPO AA 76532   male   38   \n",
      "4      625.626.9133x374   170 Jackson Loaf\\nKristenland, AS 48876   male   58   \n",
      "\n",
      "  registered  orders   spent       job                      hobbies   \n",
      "0 2019-05-05       7  568.29    Artist               Playing sports  \\\n",
      "1 2020-05-20      11  568.92    Artist                     Swimming   \n",
      "2 2020-04-04      11  497.12     Clerk                     Painting   \n",
      "3 2019-01-30      17  834.60   Butcher  Playing musical instruments   \n",
      "4 2022-07-01      14  151.59  Engineer                      Reading   \n",
      "\n",
      "   is_married  \n",
      "0       False  \n",
      "1        True  \n",
      "2       False  \n",
      "3       False  \n",
      "4       False  \n",
      "json data\n",
      "  first_name last_name                               email   \n",
      "0     Joseph      Rice      josephrice131@slingacademy.com  \\\n",
      "1       Gary     Moore       garymoore386@slingacademy.com   \n",
      "2       John    Walker      johnwalker944@slingacademy.com   \n",
      "3       Eric    Carter      ericcarter176@slingacademy.com   \n",
      "4    William   Jackson  williamjackson427@slingacademy.com   \n",
      "\n",
      "                  phone                                   address gender  age   \n",
      "0  +1-800-040-3135x6208    91773 Miller Shoal\\nDiaztown, FL 38841   male   43  \\\n",
      "1     221.945.4191x8872       6450 John Lodge\\nTerriton, KY 95945   male   71   \n",
      "2     388-142-4883x5370  27265 Murray Island\\nKevinfort, PA 63231   male   44   \n",
      "3         (451)259-5402                 USNS Knight\\nFPO AA 76532   male   38   \n",
      "4      625.626.9133x374   170 Jackson Loaf\\nKristenland, AS 48876   male   58   \n",
      "\n",
      "                registered  orders   spent       job   \n",
      "0  2019-05-05T00:00:00.000       7  568.29    Artist  \\\n",
      "1  2020-05-20T00:00:00.000      11  568.92    Artist   \n",
      "2  2020-04-04T00:00:00.000      11  497.12     Clerk   \n",
      "3  2019-01-30T00:00:00.000      17  834.60   Butcher   \n",
      "4  2022-07-01T00:00:00.000      14  151.59  Engineer   \n",
      "\n",
      "                       hobbies  is_married  \n",
      "0               Playing sports       False  \n",
      "1                     Swimming        True  \n",
      "2                     Painting       False  \n",
      "3  Playing musical instruments       False  \n",
      "4                      Reading       False  \n"
     ]
    }
   ],
   "source": [
    "import pandas as pd\n",
    "\n",
    "csv_data=pd.read_csv('customers.csv')\n",
    "\n",
    "excel_data=pd.read_excel('customers.xlsx',engine='openpyxl')\n",
    "\n",
    "import json\n",
    "with open ('customers.json','r') as json_file:\n",
    "    json_data=pd.DataFrame(json.load(json_file))\n",
    "\n",
    "\n",
    "print(\"csv data\")\n",
    "print(csv_data.head())\n",
    "print(\"excel data\")\n",
    "print(excel_data.head())\n",
    "print(\"json data\")\n",
    "print(json_data.head())"
   ]
  },
  {
   "cell_type": "markdown",
   "metadata": {},
   "source": [
    "\n",
    "Task 2\n"
   ]
  },
  {
   "cell_type": "code",
   "execution_count": 16,
   "metadata": {},
   "outputs": [
    {
     "name": "stdout",
     "output_type": "stream",
     "text": [
      "<class 'pandas.core.frame.DataFrame'>\n",
      "RangeIndex: 1000 entries, 0 to 999\n",
      "Data columns (total 13 columns):\n",
      " #   Column      Non-Null Count  Dtype  \n",
      "---  ------      --------------  -----  \n",
      " 0   first_name  1000 non-null   object \n",
      " 1   last_name   1000 non-null   object \n",
      " 2   email       1000 non-null   object \n",
      " 3   phone       1000 non-null   object \n",
      " 4   address     1000 non-null   object \n",
      " 5   gender      1000 non-null   object \n",
      " 6   age         1000 non-null   int64  \n",
      " 7   registered  1000 non-null   object \n",
      " 8   orders      1000 non-null   int64  \n",
      " 9   spent       1000 non-null   float64\n",
      " 10  job         1000 non-null   object \n",
      " 11  hobbies     1000 non-null   object \n",
      " 12  is_married  1000 non-null   bool   \n",
      "dtypes: bool(1), float64(1), int64(2), object(9)\n",
      "memory usage: 94.9+ KB\n",
      "<class 'pandas.core.frame.DataFrame'>\n",
      "RangeIndex: 1000 entries, 0 to 999\n",
      "Data columns (total 13 columns):\n",
      " #   Column      Non-Null Count  Dtype         \n",
      "---  ------      --------------  -----         \n",
      " 0   first_name  1000 non-null   object        \n",
      " 1   last_name   1000 non-null   object        \n",
      " 2   email       1000 non-null   object        \n",
      " 3   phone       1000 non-null   object        \n",
      " 4   address     1000 non-null   object        \n",
      " 5   gender      1000 non-null   object        \n",
      " 6   age         1000 non-null   int64         \n",
      " 7   registered  1000 non-null   datetime64[ns]\n",
      " 8   orders      1000 non-null   int64         \n",
      " 9   spent       1000 non-null   float64       \n",
      " 10  job         1000 non-null   object        \n",
      " 11  hobbies     1000 non-null   object        \n",
      " 12  is_married  1000 non-null   bool          \n",
      "dtypes: bool(1), datetime64[ns](1), float64(1), int64(2), object(8)\n",
      "memory usage: 94.9+ KB\n",
      "<class 'pandas.core.frame.DataFrame'>\n",
      "RangeIndex: 1000 entries, 0 to 999\n",
      "Data columns (total 13 columns):\n",
      " #   Column      Non-Null Count  Dtype  \n",
      "---  ------      --------------  -----  \n",
      " 0   first_name  1000 non-null   object \n",
      " 1   last_name   1000 non-null   object \n",
      " 2   email       1000 non-null   object \n",
      " 3   phone       1000 non-null   object \n",
      " 4   address     1000 non-null   object \n",
      " 5   gender      1000 non-null   object \n",
      " 6   age         1000 non-null   int64  \n",
      " 7   registered  1000 non-null   object \n",
      " 8   orders      1000 non-null   int64  \n",
      " 9   spent       1000 non-null   float64\n",
      " 10  job         1000 non-null   object \n",
      " 11  hobbies     1000 non-null   object \n",
      " 12  is_married  1000 non-null   bool   \n",
      "dtypes: bool(1), float64(1), int64(2), object(9)\n",
      "memory usage: 94.9+ KB\n"
     ]
    },
    {
     "data": {
      "text/plain": [
       "first_name    0\n",
       "last_name     0\n",
       "email         0\n",
       "phone         0\n",
       "address       0\n",
       "gender        0\n",
       "age           0\n",
       "registered    0\n",
       "orders        0\n",
       "spent         0\n",
       "job           0\n",
       "hobbies       0\n",
       "is_married    0\n",
       "dtype: int64"
      ]
     },
     "execution_count": 16,
     "metadata": {},
     "output_type": "execute_result"
    }
   ],
   "source": [
    "csv_data.info()\n",
    "csv_data.isnull().sum()\n",
    "\n",
    "excel_data.info()\n",
    "excel_data.isnull().sum()\n",
    "\n",
    "\n",
    "json_data.info()\n",
    "json_data.isnull().sum()"
   ]
  },
  {
   "cell_type": "markdown",
   "metadata": {},
   "source": [
    "T3"
   ]
  },
  {
   "cell_type": "code",
   "execution_count": 19,
   "metadata": {},
   "outputs": [],
   "source": [
    "csv_data.fillna(0,inplace=True)\n",
    "csv_data.drop_duplicates(inplace=True)\n",
    "#same for the rest two"
   ]
  },
  {
   "cell_type": "markdown",
   "metadata": {},
   "source": [
    "T4 combination\n"
   ]
  },
  {
   "cell_type": "code",
   "execution_count": 26,
   "metadata": {},
   "outputs": [],
   "source": [
    "cmn_df=pd.concat([csv_data,excel_data,json_data],ignore_index=True)"
   ]
  },
  {
   "cell_type": "markdown",
   "metadata": {},
   "source": [
    "T5"
   ]
  },
  {
   "cell_type": "code",
   "execution_count": 32,
   "metadata": {},
   "outputs": [
    {
     "name": "stdout",
     "output_type": "stream",
     "text": [
      "  first_name last_name                               email   \n",
      "0     Joseph      Rice      josephrice131@slingacademy.com  \\\n",
      "1       Gary     Moore       garymoore386@slingacademy.com   \n",
      "2       John    Walker      johnwalker944@slingacademy.com   \n",
      "3       Eric    Carter      ericcarter176@slingacademy.com   \n",
      "4    William   Jackson  williamjackson427@slingacademy.com   \n",
      "\n",
      "                  phone                                   address gender  age   \n",
      "0  +1-800-040-3135x6208    91773 Miller Shoal\\nDiaztown, FL 38841   male   43  \\\n",
      "1     221.945.4191x8872       6450 John Lodge\\nTerriton, KY 95945   male   71   \n",
      "2     388-142-4883x5370  27265 Murray Island\\nKevinfort, PA 63231   male   44   \n",
      "3         (451)259-5402                 USNS Knight\\nFPO AA 76532   male   38   \n",
      "4      625.626.9133x374   170 Jackson Loaf\\nKristenland, AS 48876   male   58   \n",
      "\n",
      "   registered  orders   spent       job                      hobbies   \n",
      "0  2019-05-05       7  568.29    Artist               Playing sports  \\\n",
      "1  2020-05-20      11  568.92    Artist                     Swimming   \n",
      "2  2020-04-04      11  497.12     Clerk                     Painting   \n",
      "3  2019-01-30      17  834.60   Butcher  Playing musical instruments   \n",
      "4  2022-07-01      14  151.59  Engineer                      Reading   \n",
      "\n",
      "   is_married   new_var Area_code  \n",
      "0       False   3978.03         1  \n",
      "1        True   6258.12       221  \n",
      "2       False   5468.32       388  \n",
      "3       False  14188.20       451  \n",
      "4       False   2122.26       625  \n"
     ]
    }
   ],
   "source": [
    "if not all(csv_data.columns==excel_data.columns) or not all(csv_data.columns==json_data):\n",
    "    print(\"COls are inconsistent\")\n",
    "else:\n",
    "    cmn_df['Area_code']=cmn_df['phone'].str.extract(r'(\\d+)')\n",
    "    cmn_df['new_var']=cmn_df['orders']*cmn_df['spent']\n",
    "print(cmn_df.head())"
   ]
  },
  {
   "cell_type": "code",
   "execution_count": 38,
   "metadata": {},
   "outputs": [
    {
     "name": "stdout",
     "output_type": "stream",
     "text": [
      "stats                age       orders        spent       new_var\n",
      "count  3000.000000  3000.000000  3000.000000   3000.000000\n",
      "mean     48.145000    10.036000   496.295100   4897.263710\n",
      "std      18.346339     6.173606   289.132777   4466.151285\n",
      "min      18.000000     0.000000     0.490000      0.000000\n",
      "25%      32.000000     5.000000   248.100000   1284.262500\n",
      "50%      47.000000    10.000000   469.045000   3628.140000\n",
      "75%      64.000000    15.000000   739.660000   7375.115000\n",
      "max      80.000000    20.000000   999.150000  19983.000000\n",
      "agg_data                 orders       spent\n",
      "job                               \n",
      "Accountant        1008  480.695882\n",
      "Architect          654  549.016667\n",
      "Artist             591  576.194583\n",
      "Athlete            906  503.059630\n",
      "Baker              981  469.264194\n",
      "Barber            1038  453.617143\n",
      "Butcher            975  430.244687\n",
      "Carpenter          471  521.049000\n",
      "Cashier            831  541.296538\n",
      "Chef              1050  501.610938\n",
      "Clerk              762  486.912083\n",
      "Dentist            900  498.399667\n",
      "Doctor             927  498.835000\n",
      "Engineer           909  485.854231\n",
      "Farmer             627  417.005217\n",
      "Firefighter        795  421.117692\n",
      "Hairdresser        828  474.699259\n",
      "Housewife          786  470.946154\n",
      "Janitor            960  528.832000\n",
      "Lawyer            1047  524.990000\n",
      "Librarian          408  445.107143\n",
      "Mechanic           885  547.160606\n",
      "Nurse              753  430.046296\n",
      "Officer            582  553.467000\n",
      "Pilot              945  495.528750\n",
      "Polic              738  418.494400\n",
      "Politician         630  561.991739\n",
      "Receptionist       840  561.750294\n",
      "Scientist          648  475.320476\n",
      "Security Guard     765  535.684815\n",
      "Student            837  522.103077\n",
      "Tailor            1014  463.127059\n",
      "Teacher            780  473.012500\n",
      "Unemployed        1017  433.800000\n",
      "Unkown             600  579.054091\n",
      "Waiter             717  572.398400\n",
      "Waitress           903  475.518889\n"
     ]
    }
   ],
   "source": [
    "stats=cmn_df.describe()\n",
    "\n",
    "agg_data=cmn_df.groupby(cmn_df['job']).agg({'orders':'sum','spent':'mean'})\n",
    "\n",
    "\n",
    "print(\"stats\",stats)\n",
    "print(\"agg_data\",agg_data)\n"
   ]
  },
  {
   "cell_type": "code",
   "execution_count": 45,
   "metadata": {},
   "outputs": [
    {
     "data": {
      "image/png": "[encoded data removed]",
      "text/plain": [
       "<Figure size 700x500 with 1 Axes>"
      ]
     },
     "metadata": {},
     "output_type": "display_data"
    }
   ],
   "source": [
    "import matplotlib.pyplot as plt\n",
    "import seaborn as sns\n",
    "\n",
    "plt.figure(figsize=(7,5))\n",
    "sns.barplot(x='job',y='spent',data=cmn_df)\n",
    "plt.xticks(rotation=90)\n",
    "plt.title(\"avg sales\")\n",
    "plt.xlabel(\"Job\")\n",
    "plt.ylabel('sales')\n",
    "plt.show()"
   ]
  },
  {
   "cell_type": "code",
   "execution_count": null,
   "metadata": {},
   "outputs": [],
   "source": []
  }
 ],
 "metadata": {
  "kernelspec": {
   "display_name": "Python 3",
   "language": "python",
   "name": "python3"
  },
  "language_info": {
   "codemirror_mode": {
    "name": "ipython",
    "version": 3
   },
   "file_extension": ".py",
   "mimetype": "text/x-python",
   "name": "python",
   "nbconvert_exporter": "python",
   "pygments_lexer": "ipython3",
   "version": "3.11.2"
  }
 },
 "nbformat": 4,
 "nbformat_minor": 2
}
