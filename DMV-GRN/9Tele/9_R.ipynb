{
 "cells": [
  {
   "cell_type": "code",
   "execution_count": 2,
   "metadata": {},
   "outputs": [
    {
     "name": "stdout",
     "output_type": "stream",
     "text": [
      "<class 'pandas.core.frame.DataFrame'>\n",
      "RangeIndex: 7043 entries, 0 to 7042\n",
      "Data columns (total 38 columns):\n",
      " #   Column                             Non-Null Count  Dtype  \n",
      "---  ------                             --------------  -----  \n",
      " 0   Customer ID                        7043 non-null   object \n",
      " 1   Gender                             7043 non-null   object \n",
      " 2   Age                                7043 non-null   int64  \n",
      " 3   Married                            7043 non-null   object \n",
      " 4   Number of Dependents               7043 non-null   int64  \n",
      " 5   City                               7043 non-null   object \n",
      " 6   Zip Code                           7043 non-null   int64  \n",
      " 7   Latitude                           7043 non-null   float64\n",
      " 8   Longitude                          7043 non-null   float64\n",
      " 9   Number of Referrals                7043 non-null   int64  \n",
      " 10  Tenure in Months                   7043 non-null   int64  \n",
      " 11  Offer                              3166 non-null   object \n",
      " 12  Phone Service                      7043 non-null   object \n",
      " 13  Avg Monthly Long Distance Charges  6361 non-null   float64\n",
      " 14  Multiple Lines                     6361 non-null   object \n",
      " 15  Internet Service                   7043 non-null   object \n",
      " 16  Internet Type                      5517 non-null   object \n",
      " 17  Avg Monthly GB Download            5517 non-null   float64\n",
      " 18  Online Security                    5517 non-null   object \n",
      " 19  Online Backup                      5517 non-null   object \n",
      " 20  Device Protection Plan             5517 non-null   object \n",
      " 21  Premium Tech Support               5517 non-null   object \n",
      " 22  Streaming TV                       5517 non-null   object \n",
      " 23  Streaming Movies                   5517 non-null   object \n",
      " 24  Streaming Music                    5517 non-null   object \n",
      " 25  Unlimited Data                     5517 non-null   object \n",
      " 26  Contract                           7043 non-null   object \n",
      " 27  Paperless Billing                  7043 non-null   object \n",
      " 28  Payment Method                     7043 non-null   object \n",
      " 29  Monthly Charge                     7043 non-null   float64\n",
      " 30  Total Charges                      7043 non-null   float64\n",
      " 31  Total Refunds                      7043 non-null   float64\n",
      " 32  Total Extra Data Charges           7043 non-null   int64  \n",
      " 33  Total Long Distance Charges        7043 non-null   float64\n",
      " 34  Total Revenue                      7043 non-null   float64\n",
      " 35  Customer Status                    7043 non-null   object \n",
      " 36  Churn Category                     1869 non-null   object \n",
      " 37  Churn Reason                       1869 non-null   object \n",
      "dtypes: float64(9), int64(6), object(23)\n",
      "memory usage: 2.0+ MB\n",
      "df_head   Customer ID  Gender  Age Married  Number of Dependents          City   \n",
      "0  0002-ORFBO  Female   37     Yes                     0  Frazier Park  \\\n",
      "1  0003-MKNFE    Male   46      No                     0      Glendale   \n",
      "2  0004-TLHLJ    Male   50      No                     0    Costa Mesa   \n",
      "3  0011-IGKFF    Male   78     Yes                     0      Martinez   \n",
      "4  0013-EXCHZ  Female   75     Yes                     0     Camarillo   \n",
      "\n",
      "   Zip Code   Latitude   Longitude  Number of Referrals  ...   Payment Method   \n",
      "0     93225  34.827662 -118.999073                    2  ...      Credit Card  \\\n",
      "1     91206  34.162515 -118.203869                    0  ...      Credit Card   \n",
      "2     92627  33.645672 -117.922613                    0  ...  Bank Withdrawal   \n",
      "3     94553  38.014457 -122.115432                    1  ...  Bank Withdrawal   \n",
      "4     93010  34.227846 -119.079903                    3  ...      Credit Card   \n",
      "\n",
      "  Monthly Charge Total Charges  Total Refunds Total Extra Data Charges   \n",
      "0           65.6        593.30           0.00                        0  \\\n",
      "1           -4.0        542.40          38.33                       10   \n",
      "2           73.9        280.85           0.00                        0   \n",
      "3           98.0       1237.85           0.00                        0   \n",
      "4           83.9        267.40           0.00                        0   \n",
      "\n",
      "  Total Long Distance Charges Total Revenue  Customer Status   Churn Category   \n",
      "0                      381.51        974.81           Stayed              NaN  \\\n",
      "1                       96.21        610.28           Stayed              NaN   \n",
      "2                      134.60        415.45          Churned       Competitor   \n",
      "3                      361.66       1599.51          Churned  Dissatisfaction   \n",
      "4                       22.14        289.54          Churned  Dissatisfaction   \n",
      "\n",
      "                    Churn Reason  \n",
      "0                            NaN  \n",
      "1                            NaN  \n",
      "2  Competitor had better devices  \n",
      "3        Product dissatisfaction  \n",
      "4            Network reliability  \n",
      "\n",
      "[5 rows x 38 columns]\n",
      "stats                Age  Number of Dependents      Zip Code     Latitude   \n",
      "count  7043.000000           7043.000000   7043.000000  7043.000000  \\\n",
      "mean     46.509726              0.468692  93486.070567    36.197455   \n",
      "std      16.750352              0.962802   1856.767505     2.468929   \n",
      "min      19.000000              0.000000  90001.000000    32.555828   \n",
      "25%      32.000000              0.000000  92101.000000    33.990646   \n",
      "50%      46.000000              0.000000  93518.000000    36.205465   \n",
      "75%      60.000000              0.000000  95329.000000    38.161321   \n",
      "max      80.000000              9.000000  96150.000000    41.962127   \n",
      "\n",
      "         Longitude  Number of Referrals  Tenure in Months   \n",
      "count  7043.000000          7043.000000       7043.000000  \\\n",
      "mean   -119.756684             1.951867         32.386767   \n",
      "std       2.154425             3.001199         24.542061   \n",
      "min    -124.301372             0.000000          1.000000   \n",
      "25%    -121.788090             0.000000          9.000000   \n",
      "50%    -119.595293             0.000000         29.000000   \n",
      "75%    -117.969795             3.000000         55.000000   \n",
      "max    -114.192901            11.000000         72.000000   \n",
      "\n",
      "       Avg Monthly Long Distance Charges  Avg Monthly GB Download   \n",
      "count                        6361.000000              5517.000000  \\\n",
      "mean                           25.420517                26.189958   \n",
      "std                            14.200374                19.586585   \n",
      "min                             1.010000                 2.000000   \n",
      "25%                            13.050000                13.000000   \n",
      "50%                            25.690000                21.000000   \n",
      "75%                            37.680000                30.000000   \n",
      "max                            49.990000                85.000000   \n",
      "\n",
      "       Monthly Charge  Total Charges  Total Refunds  Total Extra Data Charges   \n",
      "count     7043.000000    7043.000000    7043.000000               7043.000000  \\\n",
      "mean        63.596131    2280.381264       1.962182                  6.860713   \n",
      "std         31.204743    2266.220462       7.902614                 25.104978   \n",
      "min        -10.000000      18.800000       0.000000                  0.000000   \n",
      "25%         30.400000     400.150000       0.000000                  0.000000   \n",
      "50%         70.050000    1394.550000       0.000000                  0.000000   \n",
      "75%         89.750000    3786.600000       0.000000                  0.000000   \n",
      "max        118.750000    8684.800000      49.790000                150.000000   \n",
      "\n",
      "       Total Long Distance Charges  Total Revenue  \n",
      "count                  7043.000000    7043.000000  \n",
      "mean                    749.099262    3034.379056  \n",
      "std                     846.660055    2865.204542  \n",
      "min                       0.000000      21.360000  \n",
      "25%                      70.545000     605.610000  \n",
      "50%                     401.440000    2108.640000  \n",
      "75%                    1191.100000    4801.145000  \n",
      "max                    3564.720000   11979.340000  \n",
      "info None\n"
     ]
    }
   ],
   "source": [
    "import pandas as pd\n",
    "df=pd.read_csv('telecom_customer_churn.csv')\n",
    "df_head=df.head()\n",
    "stats=df.describe()\n",
    "info=df.info()\n",
    "\n",
    "print(\"df_head\",df_head)\n",
    "print(\"stats\",stats)\n",
    "print(\"info\",info)"
   ]
  },
  {
   "cell_type": "code",
   "execution_count": 3,
   "metadata": {},
   "outputs": [
    {
     "name": "stdout",
     "output_type": "stream",
     "text": [
      "Customer ID                             0\n",
      "Gender                                  0\n",
      "Age                                     0\n",
      "Married                                 0\n",
      "Number of Dependents                    0\n",
      "City                                    0\n",
      "Zip Code                                0\n",
      "Latitude                                0\n",
      "Longitude                               0\n",
      "Number of Referrals                     0\n",
      "Tenure in Months                        0\n",
      "Offer                                3877\n",
      "Phone Service                           0\n",
      "Avg Monthly Long Distance Charges     682\n",
      "Multiple Lines                        682\n",
      "Internet Service                        0\n",
      "Internet Type                        1526\n",
      "Avg Monthly GB Download              1526\n",
      "Online Security                      1526\n",
      "Online Backup                        1526\n",
      "Device Protection Plan               1526\n",
      "Premium Tech Support                 1526\n",
      "Streaming TV                         1526\n",
      "Streaming Movies                     1526\n",
      "Streaming Music                      1526\n",
      "Unlimited Data                       1526\n",
      "Contract                                0\n",
      "Paperless Billing                       0\n",
      "Payment Method                          0\n",
      "Monthly Charge                          0\n",
      "Total Charges                           0\n",
      "Total Refunds                           0\n",
      "Total Extra Data Charges                0\n",
      "Total Long Distance Charges             0\n",
      "Total Revenue                           0\n",
      "Customer Status                         0\n",
      "Churn Category                       5174\n",
      "Churn Reason                         5174\n",
      "dtype: int64\n"
     ]
    }
   ],
   "source": [
    "print(df.isnull().sum())"
   ]
  },
  {
   "cell_type": "code",
   "execution_count": 5,
   "metadata": {},
   "outputs": [
    {
     "name": "stdout",
     "output_type": "stream",
     "text": [
      "Customer ID                          0\n",
      "Gender                               0\n",
      "Age                                  0\n",
      "Married                              0\n",
      "Number of Dependents                 0\n",
      "City                                 0\n",
      "Zip Code                             0\n",
      "Latitude                             0\n",
      "Longitude                            0\n",
      "Number of Referrals                  0\n",
      "Tenure in Months                     0\n",
      "Offer                                2\n",
      "Phone Service                        0\n",
      "Avg Monthly Long Distance Charges    0\n",
      "Multiple Lines                       0\n",
      "Internet Service                     0\n",
      "Internet Type                        0\n",
      "Avg Monthly GB Download              0\n",
      "Online Security                      0\n",
      "Online Backup                        0\n",
      "Device Protection Plan               0\n",
      "Premium Tech Support                 0\n",
      "Streaming TV                         0\n",
      "Streaming Movies                     0\n",
      "Streaming Music                      0\n",
      "Unlimited Data                       0\n",
      "Contract                             0\n",
      "Paperless Billing                    0\n",
      "Payment Method                       0\n",
      "Monthly Charge                       0\n",
      "Total Charges                        0\n",
      "Total Refunds                        0\n",
      "Total Extra Data Charges             0\n",
      "Total Long Distance Charges          0\n",
      "Total Revenue                        0\n",
      "Customer Status                      0\n",
      "Churn Category                       2\n",
      "Churn Reason                         2\n",
      "dtype: int64\n"
     ]
    }
   ],
   "source": [
    "df.fillna(method='ffill',inplace=True)\n",
    "print(df.isnull().sum())\n"
   ]
  },
  {
   "cell_type": "code",
   "execution_count": 6,
   "metadata": {},
   "outputs": [],
   "source": [
    "df.drop_duplicates(inplace=True)"
   ]
  },
  {
   "cell_type": "code",
   "execution_count": 7,
   "metadata": {},
   "outputs": [],
   "source": [
    "df.columns=df.columns.str.lower()"
   ]
  },
  {
   "cell_type": "code",
   "execution_count": 9,
   "metadata": {},
   "outputs": [
    {
     "name": "stdout",
     "output_type": "stream",
     "text": [
      "<class 'pandas.core.series.Series'>\n"
     ]
    }
   ],
   "source": [
    "df['total charges']=pd.to_numeric(df['total charges'],errors='coerce')\n",
    "print(type(df['total charges']))"
   ]
  },
  {
   "cell_type": "code",
   "execution_count": null,
   "metadata": {},
   "outputs": [],
   "source": []
  },
  {
   "cell_type": "code",
   "execution_count": 14,
   "metadata": {},
   "outputs": [
    {
     "data": {
      "text/plain": [
       "[]"
      ]
     },
     "execution_count": 14,
     "metadata": {},
     "output_type": "execute_result"
    },
    {
     "data": {
      "image/png": "[encoded data removed]",
      "text/plain": [
       "<Figure size 700x500 with 1 Axes>"
      ]
     },
     "metadata": {},
     "output_type": "display_data"
    }
   ],
   "source": [
    "import matplotlib.pyplot as plt\n",
    "plt.figure(figsize=(7,5))\n",
    "plt.scatter(df['tenure in months'],df['total charges'],c='red')\n",
    "plt.plot()"
   ]
  },
  {
   "cell_type": "code",
   "execution_count": 13,
   "metadata": {},
   "outputs": [],
   "source": [
    "z_score=(df['total charges']-df['total charges'].mean())/df['total charges'].std()\n",
    "df=df[(z_score.abs() < 3)]"
   ]
  },
  {
   "cell_type": "code",
   "execution_count": null,
   "metadata": {},
   "outputs": [],
   "source": []
  }
 ],
 "metadata": {
  "kernelspec": {
   "display_name": "Python 3",
   "language": "python",
   "name": "python3"
  },
  "language_info": {
   "codemirror_mode": {
    "name": "ipython",
    "version": 3
   },
   "file_extension": ".py",
   "mimetype": "text/x-python",
   "name": "python",
   "nbconvert_exporter": "python",
   "pygments_lexer": "ipython3",
   "version": "3.11.2"
  }
 },
 "nbformat": 4,
 "nbformat_minor": 2
}
