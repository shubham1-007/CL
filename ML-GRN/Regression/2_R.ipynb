{
 "cells": [
  {
   "cell_type": "code",
   "execution_count": 1,
   "metadata": {},
   "outputs": [],
   "source": [
    "import pandas as pd\n",
    "import statsmodels.api as sm\n",
    "from sklearn.linear_model import LinearRegression,LogisticRegression"
   ]
  },
  {
   "cell_type": "code",
   "execution_count": 2,
   "metadata": {},
   "outputs": [
    {
     "name": "stdout",
     "output_type": "stream",
     "text": [
      "   Pregnancies  Glucose  BloodPressure  SkinThickness  Insulin   BMI   \n",
      "0            6      148             72             35        0  33.6  \\\n",
      "1            1       85             66             29        0  26.6   \n",
      "2            8      183             64              0        0  23.3   \n",
      "3            1       89             66             23       94  28.1   \n",
      "4            0      137             40             35      168  43.1   \n",
      "\n",
      "   DiabetesPedigreeFunction  Age  Outcome  \n",
      "0                     0.627   50        1  \n",
      "1                     0.351   31        0  \n",
      "2                     0.672   32        1  \n",
      "3                     0.167   21        0  \n",
      "4                     2.288   33        1  \n"
     ]
    }
   ],
   "source": [
    "uci=pd.read_csv('uci.csv')\n",
    "uci=uci.drop(['Gender'],axis=1)\n",
    "\n",
    "pima=pd.read_csv('pima.csv')\n",
    "# print(uci.head())\n",
    "print(pima.head())\n",
    "\n"
   ]
  },
  {
   "cell_type": "code",
   "execution_count": 5,
   "metadata": {},
   "outputs": [
    {
     "name": "stdout",
     "output_type": "stream",
     "text": [
      "              Age    Polyuria  Polydipsia  sudden weight loss    weakness   \n",
      "count  520.000000  520.000000  520.000000          520.000000  520.000000  \\\n",
      "mean    48.028846    0.496154    0.448077            0.417308    0.586538   \n",
      "std     12.151466    0.500467    0.497776            0.493589    0.492928   \n",
      "min     16.000000    0.000000    0.000000            0.000000    0.000000   \n",
      "25%     39.000000    0.000000    0.000000            0.000000    0.000000   \n",
      "50%     47.500000    0.000000    0.000000            0.000000    1.000000   \n",
      "75%     57.000000    1.000000    1.000000            1.000000    1.000000   \n",
      "max     90.000000    1.000000    1.000000            1.000000    1.000000   \n",
      "\n",
      "       Polyphagia  Genital thrush  visual blurring     Itching  Irritability   \n",
      "count  520.000000      520.000000       520.000000  520.000000    520.000000  \\\n",
      "mean     0.455769        0.223077         0.448077    0.486538      0.242308   \n",
      "std      0.498519        0.416710         0.497776    0.500300      0.428892   \n",
      "min      0.000000        0.000000         0.000000    0.000000      0.000000   \n",
      "25%      0.000000        0.000000         0.000000    0.000000      0.000000   \n",
      "50%      0.000000        0.000000         0.000000    0.000000      0.000000   \n",
      "75%      1.000000        0.000000         1.000000    1.000000      0.000000   \n",
      "max      1.000000        1.000000         1.000000    1.000000      1.000000   \n",
      "\n",
      "       delayed healing  partial paresis  muscle stiffness    Alopecia   \n",
      "count       520.000000       520.000000        520.000000  520.000000  \\\n",
      "mean          0.459615         0.430769          0.375000    0.344231   \n",
      "std           0.498846         0.495661          0.484589    0.475574   \n",
      "min           0.000000         0.000000          0.000000    0.000000   \n",
      "25%           0.000000         0.000000          0.000000    0.000000   \n",
      "50%           0.000000         0.000000          0.000000    0.000000   \n",
      "75%           1.000000         1.000000          1.000000    1.000000   \n",
      "max           1.000000         1.000000          1.000000    1.000000   \n",
      "\n",
      "          Obesity       class  \n",
      "count  520.000000  520.000000  \n",
      "mean     0.169231    0.615385  \n",
      "std      0.375317    0.486973  \n",
      "min      0.000000    0.000000  \n",
      "25%      0.000000    0.000000  \n",
      "50%      0.000000    1.000000  \n",
      "75%      0.000000    1.000000  \n",
      "max      1.000000    1.000000  \n",
      "Age                   0.329359\n",
      "Polyuria              0.015430\n",
      "Polydipsia            0.209426\n",
      "sudden weight loss    0.336359\n",
      "weakness             -0.352476\n",
      "Polyphagia            0.178134\n",
      "Genital thrush        1.334223\n",
      "visual blurring       0.209426\n",
      "Itching               0.054022\n",
      "Irritability          1.206305\n",
      "delayed healing       0.162537\n",
      "partial paresis       0.280426\n",
      "muscle stiffness      0.517893\n",
      "Alopecia              0.657608\n",
      "Obesity               1.769420\n",
      "class                -0.475715\n",
      "dtype: float64\n",
      "Age                  -0.191709\n",
      "Polyuria             -2.007498\n",
      "Polydipsia           -1.963708\n",
      "sudden weight loss   -1.894163\n",
      "weakness             -1.883018\n",
      "Polyphagia           -1.975883\n",
      "Genital thrush       -0.220713\n",
      "visual blurring      -1.963708\n",
      "Itching              -2.004807\n",
      "Irritability         -0.546948\n",
      "delayed healing      -1.981217\n",
      "partial paresis      -1.928795\n",
      "muscle stiffness     -1.738488\n",
      "Alopecia             -1.573619\n",
      "Obesity               1.135197\n",
      "class                -1.780558\n",
      "dtype: float64\n"
     ]
    }
   ],
   "source": [
    "uci_stats=uci.describe()\n",
    "uci_skew=uci.skew()\n",
    "uci_kurtosis=uci.kurtosis()\n",
    "\n",
    "pima_stats=pima.describe()\n",
    "pima_skew=pima.skew()\n",
    "pima_kurtosis=pima.kurtosis()\n",
    "\n",
    "print(uci_stats)\n",
    "print(uci_skew)\n",
    "print(uci_kurtosis)\n",
    "\n"
   ]
  },
  {
   "cell_type": "code",
   "execution_count": 4,
   "metadata": {},
   "outputs": [],
   "source": [
    "Xp=uci[['sudden weight loss','Obesity']]\n",
    "yp=uci['class']\n"
   ]
  },
  {
   "cell_type": "code",
   "execution_count": 11,
   "metadata": {},
   "outputs": [],
   "source": [
    "from sklearn.metrics import accuracy_score,classification_report,mean_squared_error"
   ]
  },
  {
   "cell_type": "code",
   "execution_count": 14,
   "metadata": {},
   "outputs": [
    {
     "name": "stdout",
     "output_type": "stream",
     "text": [
      "0.6634615384615384\n",
      "0.33653846153846156\n"
     ]
    }
   ],
   "source": [
    "from sklearn.model_selection import train_test_split\n",
    "x_train,x_test,y_train,y_test=train_test_split(Xp,yp,test_size=0.2,random_state=42)\n",
    "\n",
    "linear=LogisticRegression()\n",
    "lr=linear.fit(x_train,y_train)\n",
    "\n",
    "y_pred=linear.predict(x_test)\n",
    "accuracy=accuracy_score(y_pred,y_test)\n",
    "print(accuracy)\n",
    "error=mean_squared_error(y_pred,y_test)\n",
    "print(error)\n",
    "\n",
    "\n"
   ]
  },
  {
   "cell_type": "code",
   "execution_count": 21,
   "metadata": {},
   "outputs": [
    {
     "ename": "ValueError",
     "evalue": "shapes (520,4) and (520,4) not aligned: 4 (dim 1) != 520 (dim 0)",
     "output_type": "error",
     "traceback": [
      "\u001b[1;31m---------------------------------------------------------------------------\u001b[0m",
      "\u001b[1;31mValueError\u001b[0m                                Traceback (most recent call last)",
      "\u001b[1;32me:\\B.E Labs\\Cl-I\\ML-GRN\\ML\\Regression\\2_R.ipynb Cell 7\u001b[0m line \u001b[0;36m5\n\u001b[0;32m      <a href='vscode-notebook-cell:/e%3A/B.E%20Labs/Cl-I/ML-GRN/ML/Regression/2_R.ipynb#W5sZmlsZQ%3D%3D?line=2'>3</a>\u001b[0m x_uci\u001b[39m=\u001b[39msm\u001b[39m.\u001b[39madd_constant(x_uci)\n\u001b[0;32m      <a href='vscode-notebook-cell:/e%3A/B.E%20Labs/Cl-I/ML-GRN/ML/Regression/2_R.ipynb#W5sZmlsZQ%3D%3D?line=3'>4</a>\u001b[0m model_uci\u001b[39m=\u001b[39msm\u001b[39m.\u001b[39mOLS(x_uci,y_uci)\u001b[39m.\u001b[39mfit()\n\u001b[1;32m----> <a href='vscode-notebook-cell:/e%3A/B.E%20Labs/Cl-I/ML-GRN/ML/Regression/2_R.ipynb#W5sZmlsZQ%3D%3D?line=4'>5</a>\u001b[0m uci_summary\u001b[39m=\u001b[39mmodel_uci\u001b[39m.\u001b[39;49msummary()\n\u001b[0;32m      <a href='vscode-notebook-cell:/e%3A/B.E%20Labs/Cl-I/ML-GRN/ML/Regression/2_R.ipynb#W5sZmlsZQ%3D%3D?line=6'>7</a>\u001b[0m uci_summary\n",
      "File \u001b[1;32mD:\\Lib\\site-packages\\statsmodels\\regression\\linear_model.py:2774\u001b[0m, in \u001b[0;36mRegressionResults.summary\u001b[1;34m(self, yname, xname, title, alpha, slim)\u001b[0m\n\u001b[0;32m   2770\u001b[0m     top_left\u001b[39m.\u001b[39mappend((\u001b[39m'\u001b[39m\u001b[39mCovariance Type:\u001b[39m\u001b[39m'\u001b[39m, [\u001b[39mself\u001b[39m\u001b[39m.\u001b[39mcov_type]))\n\u001b[0;32m   2772\u001b[0m rsquared_type \u001b[39m=\u001b[39m \u001b[39m'\u001b[39m\u001b[39m'\u001b[39m \u001b[39mif\u001b[39;00m \u001b[39mself\u001b[39m\u001b[39m.\u001b[39mk_constant \u001b[39melse\u001b[39;00m \u001b[39m'\u001b[39m\u001b[39m (uncentered)\u001b[39m\u001b[39m'\u001b[39m\n\u001b[0;32m   2773\u001b[0m top_right \u001b[39m=\u001b[39m [(\u001b[39m'\u001b[39m\u001b[39mR-squared\u001b[39m\u001b[39m'\u001b[39m \u001b[39m+\u001b[39m rsquared_type \u001b[39m+\u001b[39m \u001b[39m'\u001b[39m\u001b[39m:\u001b[39m\u001b[39m'\u001b[39m,\n\u001b[1;32m-> 2774\u001b[0m               [\u001b[39m\"\u001b[39m\u001b[39m%#8.3f\u001b[39;00m\u001b[39m\"\u001b[39m \u001b[39m%\u001b[39m \u001b[39mself\u001b[39;49m\u001b[39m.\u001b[39;49mrsquared]),\n\u001b[0;32m   2775\u001b[0m              (\u001b[39m'\u001b[39m\u001b[39mAdj. R-squared\u001b[39m\u001b[39m'\u001b[39m \u001b[39m+\u001b[39m rsquared_type \u001b[39m+\u001b[39m \u001b[39m'\u001b[39m\u001b[39m:\u001b[39m\u001b[39m'\u001b[39m,\n\u001b[0;32m   2776\u001b[0m               [\u001b[39m\"\u001b[39m\u001b[39m%#8.3f\u001b[39;00m\u001b[39m\"\u001b[39m \u001b[39m%\u001b[39m \u001b[39mself\u001b[39m\u001b[39m.\u001b[39mrsquared_adj]),\n\u001b[0;32m   2777\u001b[0m              (\u001b[39m'\u001b[39m\u001b[39mF-statistic:\u001b[39m\u001b[39m'\u001b[39m, [\u001b[39m\"\u001b[39m\u001b[39m%#8.4g\u001b[39;00m\u001b[39m\"\u001b[39m \u001b[39m%\u001b[39m \u001b[39mself\u001b[39m\u001b[39m.\u001b[39mfvalue]),\n\u001b[0;32m   2778\u001b[0m              (\u001b[39m'\u001b[39m\u001b[39mProb (F-statistic):\u001b[39m\u001b[39m'\u001b[39m, [\u001b[39m\"\u001b[39m\u001b[39m%#6.3g\u001b[39;00m\u001b[39m\"\u001b[39m \u001b[39m%\u001b[39m \u001b[39mself\u001b[39m\u001b[39m.\u001b[39mf_pvalue]),\n\u001b[0;32m   2779\u001b[0m              (\u001b[39m'\u001b[39m\u001b[39mLog-Likelihood:\u001b[39m\u001b[39m'\u001b[39m, \u001b[39mNone\u001b[39;00m),\n\u001b[0;32m   2780\u001b[0m              (\u001b[39m'\u001b[39m\u001b[39mAIC:\u001b[39m\u001b[39m'\u001b[39m, [\u001b[39m\"\u001b[39m\u001b[39m%#8.4g\u001b[39;00m\u001b[39m\"\u001b[39m \u001b[39m%\u001b[39m \u001b[39mself\u001b[39m\u001b[39m.\u001b[39maic]),\n\u001b[0;32m   2781\u001b[0m              (\u001b[39m'\u001b[39m\u001b[39mBIC:\u001b[39m\u001b[39m'\u001b[39m, [\u001b[39m\"\u001b[39m\u001b[39m%#8.4g\u001b[39;00m\u001b[39m\"\u001b[39m \u001b[39m%\u001b[39m \u001b[39mself\u001b[39m\u001b[39m.\u001b[39mbic])\n\u001b[0;32m   2782\u001b[0m              ]\n\u001b[0;32m   2784\u001b[0m \u001b[39mif\u001b[39;00m slim:\n\u001b[0;32m   2785\u001b[0m     slimlist \u001b[39m=\u001b[39m [\u001b[39m'\u001b[39m\u001b[39mDep. Variable:\u001b[39m\u001b[39m'\u001b[39m, \u001b[39m'\u001b[39m\u001b[39mModel:\u001b[39m\u001b[39m'\u001b[39m, \u001b[39m'\u001b[39m\u001b[39mNo. Observations:\u001b[39m\u001b[39m'\u001b[39m,\n\u001b[0;32m   2786\u001b[0m                 \u001b[39m'\u001b[39m\u001b[39mCovariance Type:\u001b[39m\u001b[39m'\u001b[39m, \u001b[39m'\u001b[39m\u001b[39mR-squared:\u001b[39m\u001b[39m'\u001b[39m, \u001b[39m'\u001b[39m\u001b[39mAdj. R-squared:\u001b[39m\u001b[39m'\u001b[39m,\n\u001b[0;32m   2787\u001b[0m                 \u001b[39m'\u001b[39m\u001b[39mF-statistic:\u001b[39m\u001b[39m'\u001b[39m, \u001b[39m'\u001b[39m\u001b[39mProb (F-statistic):\u001b[39m\u001b[39m'\u001b[39m]\n",
      "File \u001b[1;32mD:\\Lib\\site-packages\\pandas\\_libs\\properties.pyx:36\u001b[0m, in \u001b[0;36mpandas._libs.properties.CachedProperty.__get__\u001b[1;34m()\u001b[0m\n",
      "File \u001b[1;32mD:\\Lib\\site-packages\\statsmodels\\regression\\linear_model.py:1783\u001b[0m, in \u001b[0;36mRegressionResults.rsquared\u001b[1;34m(self)\u001b[0m\n\u001b[0;32m   1781\u001b[0m     \u001b[39mreturn\u001b[39;00m \u001b[39m1\u001b[39m \u001b[39m-\u001b[39m \u001b[39mself\u001b[39m\u001b[39m.\u001b[39mssr\u001b[39m/\u001b[39m\u001b[39mself\u001b[39m\u001b[39m.\u001b[39mcentered_tss\n\u001b[0;32m   1782\u001b[0m \u001b[39melse\u001b[39;00m:\n\u001b[1;32m-> 1783\u001b[0m     \u001b[39mreturn\u001b[39;00m \u001b[39m1\u001b[39m \u001b[39m-\u001b[39m \u001b[39mself\u001b[39;49m\u001b[39m.\u001b[39;49mssr\u001b[39m/\u001b[39m\u001b[39mself\u001b[39m\u001b[39m.\u001b[39muncentered_tss\n",
      "File \u001b[1;32mD:\\Lib\\site-packages\\pandas\\_libs\\properties.pyx:36\u001b[0m, in \u001b[0;36mpandas._libs.properties.CachedProperty.__get__\u001b[1;34m()\u001b[0m\n",
      "File \u001b[1;32mD:\\Lib\\site-packages\\statsmodels\\regression\\linear_model.py:1722\u001b[0m, in \u001b[0;36mRegressionResults.ssr\u001b[1;34m(self)\u001b[0m\n\u001b[0;32m   1720\u001b[0m \u001b[39m\u001b[39m\u001b[39m\"\"\"Sum of squared (whitened) residuals.\"\"\"\u001b[39;00m\n\u001b[0;32m   1721\u001b[0m wresid \u001b[39m=\u001b[39m \u001b[39mself\u001b[39m\u001b[39m.\u001b[39mwresid\n\u001b[1;32m-> 1722\u001b[0m \u001b[39mreturn\u001b[39;00m np\u001b[39m.\u001b[39;49mdot(wresid, wresid)\n",
      "File \u001b[1;32m<__array_function__ internals>:180\u001b[0m, in \u001b[0;36mdot\u001b[1;34m(*args, **kwargs)\u001b[0m\n",
      "\u001b[1;31mValueError\u001b[0m: shapes (520,4) and (520,4) not aligned: 4 (dim 1) != 520 (dim 0)"
     ]
    }
   ],
   "source": [
    "x_uci = uci[[\"Polyuria\",\"Polydipsia\",\"visual blurring\"]]\n",
    "y_uci = uci[\"class\"]\n",
    "x_uci=sm.add_constant(x_uci)\n",
    "model_uci=sm.OLS(x_uci,y_uci).fit()\n",
    "uci_summary=model_uci.summary()\n",
    "\n",
    "uci_summary"
   ]
  },
  {
   "cell_type": "code",
   "execution_count": null,
   "metadata": {},
   "outputs": [],
   "source": []
  }
 ],
 "metadata": {
  "kernelspec": {
   "display_name": "Python 3",
   "language": "python",
   "name": "python3"
  },
  "language_info": {
   "codemirror_mode": {
    "name": "ipython",
    "version": 3
   },
   "file_extension": ".py",
   "mimetype": "text/x-python",
   "name": "python",
   "nbconvert_exporter": "python",
   "pygments_lexer": "ipython3",
   "version": "3.11.2"
  }
 },
 "nbformat": 4,
 "nbformat_minor": 2
}
